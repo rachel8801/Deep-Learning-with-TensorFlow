{
 "cells": [
  {
   "cell_type": "markdown",
   "metadata": {},
   "source": [
    "# Final Project: Deep Learning with TensorFlow\n",
    "\n",
    "In this project we will work through the process of:\n",
    "1. installing TensorFlow in your local environment\n",
    "2. Learn some basics of how to use TensorFlow API\n",
    "3. Implement a classical linear regression model with TensorFlow\n",
    "4. Implement a k-means for clustering images\n",
    "5. Import and Train a model with FashionNIST dataset \n",
    "6. Predict new images based on the trained model\n",
    "\n",
    "This project should give you some basic knowledge on how to work with deep learning systems. Although we do not implement any neural networks from scratch in this lab, it is also important for you to have an understanding of how neural networks work.Please refer to classnotes to see how neural networks are trained. In this project we will use existing libraries, but by selecting and tuning parameters."
   ]
  },
  {
   "cell_type": "markdown",
   "metadata": {},
   "source": [
    "# Part 0 - Install TensorFlow"
   ]
  },
  {
   "cell_type": "markdown",
   "metadata": {},
   "source": [
    "# Initialize "
   ]
  },
  {
   "cell_type": "code",
   "execution_count": 2,
   "metadata": {},
   "outputs": [
    {
     "name": "stdout",
     "output_type": "stream",
     "text": [
      "1.14.0\n"
     ]
    }
   ],
   "source": [
    "# # Task 0.4. all the import we need\n",
    "from __future__ import absolute_import, division, print_function\n",
    "\n",
    "# TensorFlow and tf.keras\n",
    "import tensorflow as tf\n",
    "from tensorflow import keras     # we can also access keras API with tf.keras\n",
    "\n",
    "# Helper libraries\n",
    "import numpy as np\n",
    "import matplotlib.pyplot as plt\n",
    "\n",
    "print(tf.__version__)\n",
    "# now we are ready to move on to doing some amazing things."
   ]
  },
  {
   "cell_type": "markdown",
   "metadata": {},
   "source": [
    "# Part 1 - Getting to know TensorFlow (TF)\n",
    "TensorFlow is a framework. This core open source library help you develop and train ML models. You can install tensorflow locally or run tensorflow on colab.research.google.com directly in your browser. TensorFlow supports wide range of devices and API's, including javascript for deploying mobile ML based applications. It can run on single CPU systems, GPUs, TPU's as well as mobile devices and large scale distributed systems of hundreds of machines.\n",
    "TensorFlow is its own framework. Everything in TF is implemented as a computational graph. The graph nodes are executed at later times. \n",
    "Let us understand some of its basic API functionality."
   ]
  },
  {
   "cell_type": "markdown",
   "metadata": {},
   "source": [
    "## Task 1.1 Learn the basics\n",
    "TensorFlow is a framework to allow efficient computing with multi-dimensional data. All the calls to TF are executed through API calls. It uses python (altough there are other TF suported languages now such as R)  in the backend to exceute these commands. All objects are stored as tensors, a form of a vector. A TF graph can be evaluated using a tensorflow session."
   ]
  },
  {
   "cell_type": "code",
   "execution_count": 3,
   "metadata": {},
   "outputs": [
    {
     "name": "stdout",
     "output_type": "stream",
     "text": [
      "Tensor(\"add:0\", shape=(), dtype=int32)\n",
      "[17, 72]\n"
     ]
    }
   ],
   "source": [
    "# create two constant tensors\n",
    "two_node = tf.constant(8)     \n",
    "three_node = tf.constant(9)\n",
    "# sum of the two tensors\n",
    "sum_node = two_node + three_node    # need a session to evaluate the value of sum_node\n",
    "# product the two objects\n",
    "pdt_node = two_node * three_node\n",
    "print(sum_node)                   # should notice that they are just unevaluated tensors\n",
    "# A session is an object instance that encapsulate the state and operations on the object.\n",
    "\n",
    "with tf.Session() as sess:\n",
    "    print(sess.run([sum_node, pdt_node]))\n"
   ]
  },
  {
   "cell_type": "markdown",
   "metadata": {},
   "source": [
    "## Loops in TensorFlow"
   ]
  },
  {
   "cell_type": "code",
   "execution_count": 4,
   "metadata": {},
   "outputs": [
    {
     "name": "stdout",
     "output_type": "stream",
     "text": [
      "12\n"
     ]
    }
   ],
   "source": [
    "i = tf.constant(0)\n",
    "cond = lambda i: tf.less(i, 12) #compare if (i < 12)\n",
    "body = lambda i: tf.add(i, 1)\n",
    "r = tf.while_loop(cond, body, [i])   # returns the final value of i\n",
    "with tf.Session() as sess:\n",
    "    print(sess.run(r))\n"
   ]
  },
  {
   "cell_type": "markdown",
   "metadata": {},
   "source": [
    "### Another Example of a While Loop"
   ]
  },
  {
   "cell_type": "code",
   "execution_count": 5,
   "metadata": {},
   "outputs": [
    {
     "name": "stdout",
     "output_type": "stream",
     "text": [
      "[4, 4]\n"
     ]
    }
   ],
   "source": [
    "def cond(t1, t2):\n",
    "    return tf.less(t1, t2)\n",
    "\n",
    "def body(t1, t2):\n",
    "    return [tf.add(t1, 1), t2]\n",
    "\n",
    "t1 = tf.constant(2)\n",
    "t2 = tf.constant(4)\n",
    "\n",
    "res = tf.while_loop(cond, body, [t1, t2])\n",
    "\n",
    "with tf.Session() as sess:\n",
    "    print(sess.run(res))"
   ]
  },
  {
   "cell_type": "markdown",
   "metadata": {},
   "source": [
    "## Task 1.2 Find the first 10 Fibbonachchi numbers\n",
    "In this activity we will write TF code using tensorflow framework to output the first 10 Fibonnachi numbers 1 1 2 3 5 8 13 21 34 55 as a list"
   ]
  },
  {
   "cell_type": "code",
   "execution_count": 6,
   "metadata": {},
   "outputs": [
    {
     "name": "stdout",
     "output_type": "stream",
     "text": [
      "[1, 1, 2, 3, 5, 8, 13, 21, 34, 55]\n"
     ]
    }
   ],
   "source": [
    "fib1 = tf.constant(1)\n",
    "fib2 = tf.constant(1)\n",
    "y = tf.identity(fib1)\n",
    "y1 = tf.identity(fib2)\n",
    "fib_nums = [y, y1]\n",
    "\n",
    "init = tf.global_variables_initializer()\n",
    "with tf.Session() as sess:\n",
    "    sess.run(init)\n",
    "    for i in range(8):\n",
    "        temp = y + y1\n",
    "        y = y1\n",
    "        y1 = temp\n",
    "        fib_nums.append(temp)\n",
    "\n",
    "    print(sess.run(fib_nums))"
   ]
  },
  {
   "cell_type": "code",
   "execution_count": 7,
   "metadata": {},
   "outputs": [
    {
     "name": "stdout",
     "output_type": "stream",
     "text": [
      "Sum 50\n",
      "Difference -10\n",
      "Product 600\n"
     ]
    }
   ],
   "source": [
    "# two tensor placeholders that can hold int32 data\n",
    "x = tf.placeholder(tf.int32)      # x can hold int32 \n",
    "y = tf.placeholder(tf.int32)       # y can hold int32 \n",
    "\n",
    "# Find sum, difference and product\n",
    "sumOf = tf.add(x,y)            # use tf.add\n",
    "diff =  tf.subtract(x,y)            # use tf.subtract\n",
    "prod =  tf.multiply(x,y)            # use tf.multiply\n",
    "\n",
    "# store inputs as a dictionary\n",
    "dict_values = {x:20,y:30}          # store values x = 20 and y = 30 as a dictionay\n",
    "\n",
    "# run a session\n",
    "with tf.Session() as sess:\n",
    "    print('Sum',sess.run(sumOf,feed_dict=dict_values))\n",
    "    print('Difference',sess.run(diff,feed_dict=dict_values))\n",
    "    print('Product',sess.run(prod,feed_dict=dict_values))"
   ]
  },
  {
   "cell_type": "markdown",
   "metadata": {},
   "source": [
    "## Task 1.4 Matrix Operations"
   ]
  },
  {
   "cell_type": "code",
   "execution_count": 8,
   "metadata": {},
   "outputs": [
    {
     "name": "stdout",
     "output_type": "stream",
     "text": [
      "[[20.]]\n"
     ]
    }
   ],
   "source": [
    "import numpy as np\n",
    "# initialize numpy arrays a and b\n",
    "a = np.array([[5.0,5.0]])               \n",
    "b = np.array([[2.0],[2.0]])  \n",
    "\n",
    "# define two tensors mat1 and mat2 using numpy arrays a and b\n",
    "mat1 = tf.constant(a)               # mat1 is a rank-1 tensor               \n",
    "mat2 = tf.constant(b)               # mat2 is a rank-2 tensor  \n",
    "\n",
    "\n",
    "# build a matrix multiplier tensor\n",
    "matrix_pdt = tf.matmul(mat1, mat2)    # use tf.matmul to find the result\n",
    "# run a session and perform the operartions\n",
    "\n",
    "with tf.Session() as sess:\n",
    "    result = sess.run(matrix_pdt)\n",
    "    print(result)"
   ]
  },
  {
   "cell_type": "markdown",
   "metadata": {},
   "source": [
    "# Part 2 Linear Regression with TensorFlow\n",
    "We have learned how to implement linear regression using Pandas. In this exercise, we will learn how to use tensorflow to implement linear regression. As stated TensorFlow is a framework that allows you to implement many standard ML algorithms. We will implement Linear Regression using TF libraries."
   ]
  },
  {
   "cell_type": "markdown",
   "metadata": {},
   "source": [
    "## Task 2.1 set up"
   ]
  },
  {
   "cell_type": "code",
   "execution_count": 9,
   "metadata": {},
   "outputs": [],
   "source": [
    "# initialize\n",
    "import tensorflow as tf\n",
    "import numpy\n",
    "import matplotlib.pyplot as plt\n",
    "rng = numpy.random\n",
    "\n",
    "# BEGIN SOLUTION\n",
    "# set parameters\n",
    "alpha = 0.0001    # alpha is the learning rate\n",
    "epochs = 5000   # One epoch is when an entire dataset is passed both forward and backward through the neural network \n",
    "                # only once\n",
    "step = 50       # every 50 iterations display the results."
   ]
  },
  {
   "cell_type": "markdown",
   "metadata": {},
   "source": [
    "## Task 2.2 Read data\n",
    "We will work with our CS 205 Data set. First we create a data frame, then extract midterm and final exam scores as numpy arrays."
   ]
  },
  {
   "cell_type": "code",
   "execution_count": 10,
   "metadata": {},
   "outputs": [
    {
     "name": "stdout",
     "output_type": "stream",
     "text": [
      "training set size:  110\n",
      "validation set size:  28\n"
     ]
    }
   ],
   "source": [
    "# Read the Training Data\n",
    "import pandas as pd\n",
    "df = pd.read_csv(\"data/midterm_finals_CS205F18.csv\")\n",
    "# use first 110 records for the training data\n",
    "train_X = df.midterm.head(110)\n",
    "train_Y = df.Finals.head(110)\n",
    "\n",
    "# use the remaining for validation\n",
    "validate_X = df.midterm.tail(28)\n",
    "validate_Y = df.Finals.tail(28)\n",
    "\n",
    "n_samples = train_X.shape[0]\n",
    "print(\"training set size: \", n_samples) \n",
    "print(\"validation set size: \", validate_X.shape[0])    "
   ]
  },
  {
   "cell_type": "markdown",
   "metadata": {},
   "source": [
    "## Task 2.3 Intialize model"
   ]
  },
  {
   "cell_type": "code",
   "execution_count": 11,
   "metadata": {},
   "outputs": [],
   "source": [
    "# tf Graph Input. We will feed the values later using feed_dict.\n",
    "X = tf.placeholder(tf.float32,[step])\n",
    "Y = tf.placeholder(tf.float32,[step])\n",
    "\n",
    "# Variables are manipulated via the tf.Variable class. A tf.Variable represents a tensor \n",
    "# whose value can be changed by running ops on it. tf.Variable exists outside the context of a single session.run call.\n",
    "\n",
    "theta = tf.Variable(0.0)   # define tf.Variable theta and initialize to some value\n",
    "b = tf.Variable(0.0)      # define tf.Variable bias b and initialize\n"
   ]
  },
  {
   "cell_type": "markdown",
   "metadata": {},
   "source": [
    "## Task 2.4 Linear Model"
   ]
  },
  {
   "cell_type": "code",
   "execution_count": 12,
   "metadata": {},
   "outputs": [],
   "source": [
    "# Construct a linear model using tf.add and tf.multiply. The model provides y = theta*x + bias\n",
    "\n",
    "predictor = tf.add(tf.multiply(X,theta),b)"
   ]
  },
  {
   "cell_type": "code",
   "execution_count": 13,
   "metadata": {},
   "outputs": [],
   "source": [
    "# Compute the average squared error using TF calls\n",
    "# Mean squared error\n",
    "cost = tf.reduce_mean(tf.square(Y-predictor))\n",
    "# Use the Gradient descent Optimizer from tf.train\n",
    "# Gradient descent\n",
    "optimizer =  tf.train.GradientDescentOptimizer(learning_rate=0.0001)\n",
    "train = optimizer.minimize(cost)"
   ]
  },
  {
   "cell_type": "code",
   "execution_count": 14,
   "metadata": {},
   "outputs": [],
   "source": [
    "# Initialize the variables (i.e. assign their default value)\n",
    "init = tf.global_variables_initializer()"
   ]
  },
  {
   "cell_type": "markdown",
   "metadata": {},
   "source": [
    "## Task 2.5 Train the Model\n",
    "Train the linear regression model by running the training data through the network."
   ]
  },
  {
   "cell_type": "code",
   "execution_count": 15,
   "metadata": {
    "scrolled": true
   },
   "outputs": [
    {
     "name": "stdout",
     "output_type": "stream",
     "text": [
      "Epoch 50 : cost = 18.423655 theta = 0.7725677 b = 0.05508479\n",
      "Epoch 100 : cost = 21.829756 theta = 0.88587046 b = 0.06622576\n",
      "Epoch 150 : cost = 22.874205 theta = 0.89820147 b = 0.0700144\n",
      "Epoch 200 : cost = 20.43225 theta = 0.90575194 b = 0.07364371\n",
      "Epoch 250 : cost = 23.70009 theta = 0.9052964 b = 0.077049166\n",
      "Epoch 300 : cost = 25.912888 theta = 0.9104605 b = 0.08047906\n",
      "Epoch 350 : cost = 12.584179 theta = 0.90714854 b = 0.083279364\n",
      "Epoch 400 : cost = 15.70553 theta = 0.90872395 b = 0.0870854\n",
      "Epoch 450 : cost = 11.829376 theta = 0.90812016 b = 0.09066484\n",
      "Epoch 500 : cost = 16.798086 theta = 0.89955014 b = 0.093320675\n",
      "Epoch 550 : cost = 17.100872 theta = 0.9013834 b = 0.09683234\n",
      "Epoch 600 : cost = 22.079247 theta = 0.8984965 b = 0.09995116\n",
      "Epoch 650 : cost = 24.552637 theta = 0.8996136 b = 0.10323051\n",
      "Epoch 700 : cost = 19.5379 theta = 0.8962328 b = 0.10642075\n",
      "Epoch 750 : cost = 13.179701 theta = 0.89737016 b = 0.1094369\n",
      "Epoch 800 : cost = 17.192167 theta = 0.9018244 b = 0.11308439\n",
      "Epoch 850 : cost = 18.638845 theta = 0.8982692 b = 0.11615187\n"
     ]
    }
   ],
   "source": [
    "with tf.Session() as sess:\n",
    "    sess.run(init)\n",
    "            \n",
    "    for i in range(850):\n",
    "        rand_ind = np.random.randint(len(train_X),size = step)\n",
    "        feed = {X:train_X[rand_ind], Y:train_Y[rand_ind]}\n",
    "        _,costValue = sess.run([train,cost], feed_dict = feed)\n",
    "        # Displaying the result after every 50 epochs\n",
    "        if (i+1)%step==0:\n",
    "            print(\"Epoch\", (i + 1), \": cost =\",costValue, \"theta =\", sess.run(theta), \"b =\", sess.run(b)) \n",
    "    model_theta , model_b = sess.run([theta, b])"
   ]
  },
  {
   "cell_type": "markdown",
   "metadata": {},
   "source": [
    "## Task 2.6 Display Regression Line"
   ]
  },
  {
   "cell_type": "code",
   "execution_count": 16,
   "metadata": {},
   "outputs": [
    {
     "data": {
      "image/png": "[encoded data removed]",
      "text/plain": [
       "<Figure size 432x288 with 1 Axes>"
      ]
     },
     "metadata": {
      "needs_background": "light"
     },
     "output_type": "display_data"
    }
   ],
   "source": [
    "#Graphic display \n",
    "y_hat = model_theta * train_X + model_b\n",
    "with tf.Session() as sess:\n",
    "    sess.run(init)\n",
    "    plt.plot(train_X, train_Y, 'ro', label='Original data')\n",
    "    plt.plot(train_X, y_hat, label='Fitted line')\n",
    "    plt.legend()\n",
    "    plt.show()"
   ]
  },
  {
   "cell_type": "markdown",
   "metadata": {},
   "source": [
    "## Task 2.7 Compare with Validation Data\n",
    "We have some validation samples and let us see where the line fits"
   ]
  },
  {
   "cell_type": "code",
   "execution_count": 17,
   "metadata": {
    "scrolled": true
   },
   "outputs": [
    {
     "data": {
      "image/png": "[encoded data removed]",
      "text/plain": [
       "<Figure size 432x288 with 1 Axes>"
      ]
     },
     "metadata": {
      "needs_background": "light"
     },
     "output_type": "display_data"
    }
   ],
   "source": [
    "with tf.Session() as sess:\n",
    "    sess.run(init)\n",
    "    plt.plot(validate_X, validate_Y, 'ro', label='Validation data')\n",
    "    plt.plot(train_X, y_hat, label='Fitted line')\n",
    "    plt.legend()\n",
    "    plt.show()"
   ]
  },
  {
   "cell_type": "markdown",
   "metadata": {},
   "source": [
    "# Part 3 - MNIST Dataset"
   ]
  },
  {
   "cell_type": "markdown",
   "metadata": {},
   "source": [
    "## Task 3.1 download the MNIST dataset"
   ]
  },
  {
   "cell_type": "code",
   "execution_count": 18,
   "metadata": {},
   "outputs": [
    {
     "name": "stdout",
     "output_type": "stream",
     "text": [
      "WARNING:tensorflow:From <ipython-input-18-d34081dde7bb>:4: read_data_sets (from tensorflow.contrib.learn.python.learn.datasets.mnist) is deprecated and will be removed in a future version.\n",
      "Instructions for updating:\n",
      "Please use alternatives such as official/mnist/dataset.py from tensorflow/models.\n",
      "WARNING:tensorflow:From /Library/Frameworks/Python.framework/Versions/3.7/lib/python3.7/site-packages/tensorflow/contrib/learn/python/learn/datasets/mnist.py:260: maybe_download (from tensorflow.contrib.learn.python.learn.datasets.base) is deprecated and will be removed in a future version.\n",
      "Instructions for updating:\n",
      "Please write your own downloading logic.\n",
      "WARNING:tensorflow:From /Library/Frameworks/Python.framework/Versions/3.7/lib/python3.7/site-packages/tensorflow/contrib/learn/python/learn/datasets/mnist.py:262: extract_images (from tensorflow.contrib.learn.python.learn.datasets.mnist) is deprecated and will be removed in a future version.\n",
      "Instructions for updating:\n",
      "Please use tf.data to implement this functionality.\n",
      "Extracting MNIST_data/train-images-idx3-ubyte.gz\n",
      "WARNING:tensorflow:From /Library/Frameworks/Python.framework/Versions/3.7/lib/python3.7/site-packages/tensorflow/contrib/learn/python/learn/datasets/mnist.py:267: extract_labels (from tensorflow.contrib.learn.python.learn.datasets.mnist) is deprecated and will be removed in a future version.\n",
      "Instructions for updating:\n",
      "Please use tf.data to implement this functionality.\n",
      "Extracting MNIST_data/train-labels-idx1-ubyte.gz\n",
      "WARNING:tensorflow:From /Library/Frameworks/Python.framework/Versions/3.7/lib/python3.7/site-packages/tensorflow/contrib/learn/python/learn/datasets/mnist.py:110: dense_to_one_hot (from tensorflow.contrib.learn.python.learn.datasets.mnist) is deprecated and will be removed in a future version.\n",
      "Instructions for updating:\n",
      "Please use tf.one_hot on tensors.\n",
      "Extracting MNIST_data/t10k-images-idx3-ubyte.gz\n",
      "Extracting MNIST_data/t10k-labels-idx1-ubyte.gz\n",
      "WARNING:tensorflow:From /Library/Frameworks/Python.framework/Versions/3.7/lib/python3.7/site-packages/tensorflow/contrib/learn/python/learn/datasets/mnist.py:290: DataSet.__init__ (from tensorflow.contrib.learn.python.learn.datasets.mnist) is deprecated and will be removed in a future version.\n",
      "Instructions for updating:\n",
      "Please use alternatives such as official/mnist/dataset.py from tensorflow/models.\n"
     ]
    }
   ],
   "source": [
    "import tensorflow as tf\n",
    "# get the MNIST Dataset\n",
    "from tensorflow.examples.tutorials.mnist import input_data\n",
    "mnist = input_data.read_data_sets(\"MNIST_data/\",one_hot=True)"
   ]
  },
  {
   "cell_type": "markdown",
   "metadata": {},
   "source": [
    "## Task 3.2 Learn about the data set.\n",
    "- how big is the training set?\n",
    "- how big is the test set?"
   ]
  },
  {
   "cell_type": "code",
   "execution_count": 19,
   "metadata": {},
   "outputs": [
    {
     "name": "stdout",
     "output_type": "stream",
     "text": [
      "\n",
      "test images: 10000 validation images: 5000\n"
     ]
    }
   ],
   "source": [
    "from tensorflow.examples.tutorials.mnist import input_data\n",
    "\n",
    "# get training images from MNIST\n",
    "train_images = mnist.train.images.shape[0]\n",
    "# how big is test images?\n",
    "test_images = mnist.test.images.shape[0]\n",
    "# how big is validation set?\n",
    "validation_images = mnist.validation.images.shape[0]\n",
    "\n",
    "print(\"\\ntest images:\", test_images, \"validation images:\", validation_images)"
   ]
  },
  {
   "cell_type": "markdown",
   "metadata": {},
   "source": [
    "## Visualize the data set\n",
    "Each image is a 28 x 28 gray-scale 2D image. Display the images images[0] and images[1] as 2D images.\n",
    "Then flatten and display image[0] to understand the form of the data."
   ]
  },
  {
   "cell_type": "code",
   "execution_count": 20,
   "metadata": {},
   "outputs": [
    {
     "data": {
      "text/plain": [
       "<matplotlib.image.AxesImage at 0x131714b00>"
      ]
     },
     "execution_count": 20,
     "metadata": {},
     "output_type": "execute_result"
    },
    {
     "data": {
      "image/png": "[encoded data removed]",
      "text/plain": [
       "<Figure size 432x288 with 1 Axes>"
      ]
     },
     "metadata": {
      "needs_background": "light"
     },
     "output_type": "display_data"
    },
    {
     "data": {
      "image/png": "[encoded data removed]",
      "text/plain": [
       "<Figure size 432x288 with 4 Axes>"
      ]
     },
     "metadata": {
      "needs_background": "light"
     },
     "output_type": "display_data"
    }
   ],
   "source": [
    "import matplotlib.pyplot as plt\n",
    "%matplotlib inline\n",
    "plt1 = plt.imshow(mnist.train.images[0].reshape(28,28))\n",
    "plt2 = plt.imshow(mnist.train.images[1].reshape(28,28),cmap='gist_gray')  # gray scale\n",
    "# flatten images[1] and display\n",
    "plt3 = plt.imshow(mnist.train.images[1].reshape(784,1),cmap='gist_gray',aspect=0.02)\n",
    "\n",
    "# show first 4 images side by side. \n",
    "f, axarr = plt.subplots(2,2)\n",
    "axarr[0,0].imshow(mnist.train.images[0].reshape(28,28))\n",
    "axarr[0,1].imshow(mnist.train.images[1].reshape(28,28))\n",
    "axarr[1,0].imshow(mnist.train.images[2].reshape(28,28))\n",
    "axarr[1,1].imshow(mnist.train.images[3].reshape(28,28))\n"
   ]
  },
  {
   "cell_type": "markdown",
   "metadata": {},
   "source": [
    "# Handwriting classification with k-means\n",
    "In this part, we will use the MNIST dataset to import 60,000 handwritten digits and implement k-means to classify them. MNIST is a benchmark dataset that can help learn many things about Deep Learning basics."
   ]
  },
  {
   "cell_type": "markdown",
   "metadata": {},
   "source": [
    "## Task 3.3 Visualize the image\n",
    "Each image is a gray-scale 28x28 (784 pixles) image. You can treat the image as a rank-1 tensor (or 1D vector) of size 784 with each value between 0-255. We can plot some images here."
   ]
  },
  {
   "cell_type": "code",
   "execution_count": 21,
   "metadata": {},
   "outputs": [
    {
     "data": {
      "image/png": "[encoded data removed]",
      "text/plain": [
       "<Figure size 432x288 with 1 Axes>"
      ]
     },
     "metadata": {
      "needs_background": "light"
     },
     "output_type": "display_data"
    }
   ],
   "source": [
    "import matplotlib.pyplot as plt\n",
    "%matplotlib inline\n",
    "mnist.train.image = mnist.train.images / 255.0\n",
    "plt1 = plt.imshow(mnist.train.image[0].reshape(28,28))  # visualize image[1]"
   ]
  },
  {
   "cell_type": "markdown",
   "metadata": {},
   "source": [
    "## Task 3.4 Implementing k-means algorithm"
   ]
  },
  {
   "cell_type": "markdown",
   "metadata": {},
   "source": [
    "### Task 3.4.1 Implement the k-means algorithm (vectorized)"
   ]
  },
  {
   "cell_type": "code",
   "execution_count": 22,
   "metadata": {},
   "outputs": [],
   "source": [
    "def kmeans(X, k, max_iter = 100, rand_seed = 0):\n",
    "    np.random.seed(rand_seed)\n",
    "    Mu = X[np.random.choice(X.shape[0],k),:]\n",
    "    for i in range(max_iter):\n",
    "        #Computing the distance between all points and all clusters\n",
    "        D = -2*X@Mu.T + (X**2).sum(axis=1)[:,None] + (Mu**2).sum(axis=1)\n",
    "        #Computing the cluster assignment of each point,\n",
    "        C = np.eye(k)[np.argmin(D,axis=1),:]\n",
    "        #Recomputing the centers to be the average of their points         \n",
    "        Mu = (C.T @ X)/np.sum(C,axis=0)[:,None]\n",
    "    loss = np.linalg.norm(X - Mu[np.argmin(D,axis=1),:])**2\n",
    "    #return these clusters plus the squared loss itself.\n",
    "    return Mu, C, loss"
   ]
  },
  {
   "cell_type": "markdown",
   "metadata": {},
   "source": [
    "### Task 3.4.2 Cluster MNIST images.\n",
    "Experiment to Find a good value of k such that most centers look like images."
   ]
  },
  {
   "cell_type": "code",
   "execution_count": 23,
   "metadata": {},
   "outputs": [
    {
     "data": {
      "image/png": "[encoded data removed]",
      "text/plain": [
       "<Figure size 720x720 with 16 Axes>"
      ]
     },
     "metadata": {},
     "output_type": "display_data"
    }
   ],
   "source": [
    "# start with k = 50\n",
    "k = 50\n",
    "# flatten each image to be 784 value vector and form 55000 x 784 matrix X\n",
    "X = mnist.train.images.reshape(55000,784)\n",
    "\n",
    "# Choose k random centers from X. That is k random data points become the original cluster centers\n",
    "\n",
    "Mu =  X[np.random.choice(X.shape[0],k)]\n",
    "# call the kmeans algorithm defined above. Be sure to have the proper arguments passed to kmeans.\n",
    "[Mu, y, loss] = kmeans(X,50,max_iter=10,rand_seed=0)\n",
    "# print(Mu, y,loss)\n",
    "# Plot the cluster centers as images\n",
    "# create figure with subplots using matplotlib.pyplot\n",
    "figure = plt.figure(figsize=(10,10))\n",
    "for i in range(16):\n",
    "    # define subplot\n",
    "    plt.subplot(4,4, 1 + i)\n",
    "    # plot raw pixel data\n",
    "    plt.xticks([])\n",
    "    plt.yticks([])\n",
    "    plt.grid(False)\n",
    "    plt.imshow(Mu[i].reshape(28,28), cmap=plt.cm.binary)\n",
    "# show the figure\n",
    "plt.show()\n"
   ]
  },
  {
   "cell_type": "markdown",
   "metadata": {},
   "source": [
    "# First Exercise in Deep Learning\n",
    "Deep Learning has become quite popular in recent times (since 2012) due to its remarkable advances in applications including self driving cars, image recognition, and voice to text conversion. The hello world of deep learning (DL) is long considered to be the exercise that uses of the MNIST hand-written digits dataset that was created by Yann Lecun in 1998. Yann LeCunn who is a professor at NYU and Director of AI at Facebook, just won the 2019 Turing Award for his contributions to Deep Learning. Let us go through a series of exercises to learn how to read, train and validate an image data set. In this case the 60,000 handwritten images of 0-9."
   ]
  },
  {
   "cell_type": "markdown",
   "metadata": {},
   "source": [
    "## Task 3.5 Create a Model"
   ]
  },
  {
   "cell_type": "code",
   "execution_count": 24,
   "metadata": {},
   "outputs": [],
   "source": [
    "import tensorflow as tf\n",
    "\n",
    "# create a placeholder\n",
    "x = tf.placeholder(tf.float32,shape=[None,784])  # 784 = mnist.train.images[1].shape\n",
    "\n",
    "# there are 10 possible numbers that the classifier must recognize\n",
    "# start with a matrix 784x10 of all zeros\n",
    "thetas = tf.Variable(tf.zeros([784,10]))\n",
    "\n",
    "# create a tf.Variable of 10 zeros (we need to find 10 categories 0-9)\n",
    "b = tf.Variable(tf.zeros([10]))\n",
    "\n",
    "# Create the Graph thetas*x + b\n",
    "y = tf.nn.softmax(tf.matmul(x,thetas)+b)\n",
    "\n",
    "# loss and optimizer\n",
    "y_true = tf.placeholder(tf.float32, [None, 10])\n",
    "\n",
    "\n",
    "# Cross-entropy loss, or log loss, measures the performance of a classification model whose output is a \n",
    "# probability value between 0 and 1.\n",
    "cross_entropy = tf.reduce_mean(-tf.reduce_sum(y_true * tf.log(y), reduction_indices=[1]))\n",
    "\n",
    "# optimizer is a Gradient Descent Optimizer\n",
    "optimizer =  tf.train.GradientDescentOptimizer(learning_rate=0.5)\n",
    "\n",
    "# training model using optimizer.minimize. Pass cross_entrophy as the argument\n",
    "train = optimizer.minimize(cross_entropy)"
   ]
  },
  {
   "cell_type": "markdown",
   "metadata": {},
   "source": [
    "## Task 3.6 Create a Session and Train"
   ]
  },
  {
   "cell_type": "code",
   "execution_count": 25,
   "metadata": {},
   "outputs": [],
   "source": [
    "# initialize all global variables\n",
    "init = tf.global_variables_initializer()"
   ]
  },
  {
   "cell_type": "markdown",
   "metadata": {},
   "source": [
    "Suggestions: \n",
    "- Train the model for 1000 steps on the training set\n",
    "- Use the built in batch feeder from minist for conveninece\n",
    "- Test the Train Model and print out the accuracy of the Model"
   ]
  },
  {
   "cell_type": "code",
   "execution_count": 26,
   "metadata": {},
   "outputs": [
    {
     "name": "stdout",
     "output_type": "stream",
     "text": [
      "0.9184\n"
     ]
    }
   ],
   "source": [
    "sess = tf.Session()\n",
    "sess.run(init)\n",
    "for i in range(1000):\n",
    "    batch_xs, batch_ys = mnist.train.next_batch(100)\n",
    "    sess.run(train, feed_dict={x: batch_xs, y_true: batch_ys})\n",
    "correct_prediction = tf.equal(tf.argmax(y,1), tf.argmax(y_true,1))\n",
    "accuracy = tf.reduce_mean(tf.cast(correct_prediction, tf.float32))\n",
    "print(sess.run(accuracy, feed_dict={x: mnist.test.images, y_true: mnist.test.labels}))\n"
   ]
  },
  {
   "cell_type": "markdown",
   "metadata": {},
   "source": [
    "# Part 4 - Classification of Fashion images"
   ]
  },
  {
   "cell_type": "markdown",
   "metadata": {},
   "source": [
    "## Task 4.1 Set up"
   ]
  },
  {
   "cell_type": "code",
   "execution_count": 27,
   "metadata": {},
   "outputs": [],
   "source": [
    "# import the fashionMNISt data set and separate training and test sets\n",
    "# use keras.datasets.fashion_mnist\n",
    "from tensorflow import keras\n",
    "fashion_mnist = keras.datasets.fashion_mnist\n",
    "(train_images, train_labels), (test_images, test_labels) = fashion_mnist.load_data()  "
   ]
  },
  {
   "cell_type": "markdown",
   "metadata": {},
   "source": [
    "## Task 4.2 Explore this data set"
   ]
  },
  {
   "cell_type": "code",
   "execution_count": 28,
   "metadata": {},
   "outputs": [
    {
     "name": "stdout",
     "output_type": "stream",
     "text": [
      "Train: images=(60000, 28, 28), labels=(60000,)\n",
      "Test: images=(10000, 28, 28), labels=(10000,)\n",
      "Label:  9 -> Ankle boot\n"
     ]
    }
   ],
   "source": [
    "# add classnames label images (ints) corresponds to thses labels. For example label 0 is T-shirt/top\n",
    "class_names = ['T-shirt/top', 'Trouser', 'Pullover', 'Dress', 'Coat', \n",
    "               'Sandal', 'Shirt', 'Sneaker', 'Bag', 'Ankle boot']\n",
    "\n",
    "# how many images and their dimensions\n",
    "print(\"Train: images=%s, labels=%s\" % (train_images.shape, train_labels.shape))\n",
    "print(\"Test: images=%s, labels=%s\" % (test_images.shape, test_labels.shape))\n",
    "# what is the length of the training set?\n",
    "\n",
    "# how do the training labels look like?\n",
    "# find more about test_images shape and labels\n",
    "print(\"Label: \", train_labels[0], \"->\", class_names[train_labels[0]])"
   ]
  },
  {
   "cell_type": "markdown",
   "metadata": {},
   "source": [
    "## Task 4.3 Visualize images in the data set"
   ]
  },
  {
   "cell_type": "code",
   "execution_count": 29,
   "metadata": {},
   "outputs": [
    {
     "data": {
      "image/png": "[encoded data removed]",
      "text/plain": [
       "<Figure size 432x288 with 1 Axes>"
      ]
     },
     "metadata": {
      "needs_background": "light"
     },
     "output_type": "display_data"
    }
   ],
   "source": [
    "# visualize an image[10] in this data set\n",
    "plt1 = plt.imshow(train_images[10].reshape(28,28))"
   ]
  },
  {
   "cell_type": "markdown",
   "metadata": {},
   "source": [
    "## Task 4.4 Plotting images"
   ]
  },
  {
   "cell_type": "code",
   "execution_count": 30,
   "metadata": {},
   "outputs": [],
   "source": [
    "# scale the images\n",
    "train_images = train_images / 255.0\n",
    "test_images = test_images / 255.0"
   ]
  },
  {
   "cell_type": "code",
   "execution_count": 31,
   "metadata": {},
   "outputs": [
    {
     "data": {
      "image/png": "[encoded data removed]",
      "text/plain": [
       "<Figure size 720x720 with 25 Axes>"
      ]
     },
     "metadata": {},
     "output_type": "display_data"
    }
   ],
   "source": [
    "# plot the first 25 images and their class_names in a 5x5 grid \n",
    "figure = plt.figure(figsize=(10,10))\n",
    "for i in range(25):\n",
    "    # define subplot\n",
    "    plt.subplot(5,5, 1 + i, title=class_names[train_labels[i]])\n",
    "    # plot raw pixel data\n",
    "    plt.xticks([])\n",
    "    plt.yticks([])\n",
    "    plt.grid(False)\n",
    "    plt.imshow(train_images[i], cmap=plt.cm.binary)\n",
    "# show the figure\n",
    "plt.show()"
   ]
  },
  {
   "cell_type": "markdown",
   "metadata": {},
   "source": [
    "## Task 4.5 Model Creation and Compilation"
   ]
  },
  {
   "cell_type": "code",
   "execution_count": 32,
   "metadata": {},
   "outputs": [
    {
     "name": "stdout",
     "output_type": "stream",
     "text": [
      "WARNING:tensorflow:From /Library/Frameworks/Python.framework/Versions/3.7/lib/python3.7/site-packages/tensorflow/python/ops/init_ops.py:1251: calling VarianceScaling.__init__ (from tensorflow.python.ops.init_ops) with dtype is deprecated and will be removed in a future version.\n",
      "Instructions for updating:\n",
      "Call initializer instance with the dtype argument instead of passing it to the constructor\n"
     ]
    }
   ],
   "source": [
    "# create a keras.sequential model\n",
    "model = keras.models.Sequential([\n",
    "    keras.layers.Flatten(input_shape=(28, 28)),\n",
    "    keras.layers.Dense(128, activation='relu'),\n",
    "    keras.layers.Dense(10, activation='softmax')])"
   ]
  },
  {
   "cell_type": "code",
   "execution_count": 33,
   "metadata": {},
   "outputs": [],
   "source": [
    "# compile the model. \n",
    "model.compile(\n",
    "    optimizer='adam', \n",
    "    loss='sparse_categorical_crossentropy',\n",
    "    metrics=['accuracy']\n",
    ")"
   ]
  },
  {
   "cell_type": "markdown",
   "metadata": {},
   "source": [
    "## Task 4.6 Fit the model\n",
    "Fit the model to training images."
   ]
  },
  {
   "cell_type": "code",
   "execution_count": 34,
   "metadata": {},
   "outputs": [
    {
     "name": "stdout",
     "output_type": "stream",
     "text": [
      "Train on 60000 samples, validate on 10000 samples\n",
      "Epoch 1/5\n",
      "60000/60000 [==============================] - 3s 42us/sample - loss: 0.5013 - acc: 0.8243 - val_loss: 0.4441 - val_acc: 0.8370\n",
      "Epoch 2/5\n",
      "60000/60000 [==============================] - 3s 42us/sample - loss: 0.3792 - acc: 0.8631 - val_loss: 0.3885 - val_acc: 0.8612\n",
      "Epoch 3/5\n",
      "60000/60000 [==============================] - 2s 41us/sample - loss: 0.3376 - acc: 0.8766 - val_loss: 0.3807 - val_acc: 0.8619\n",
      "Epoch 4/5\n",
      "60000/60000 [==============================] - 2s 41us/sample - loss: 0.3121 - acc: 0.8860 - val_loss: 0.3564 - val_acc: 0.8682\n",
      "Epoch 5/5\n",
      "60000/60000 [==============================] - 3s 44us/sample - loss: 0.2949 - acc: 0.8906 - val_loss: 0.3415 - val_acc: 0.8769\n"
     ]
    },
    {
     "data": {
      "text/plain": [
       "<tensorflow.python.keras.callbacks.History at 0x13e446d30>"
      ]
     },
     "execution_count": 34,
     "metadata": {},
     "output_type": "execute_result"
    }
   ],
   "source": [
    "# Train the classifier.\n",
    "model.fit(\n",
    "            train_images,\n",
    "            train_labels,\n",
    "            epochs=5,\n",
    "            validation_data=(test_images, test_labels),)"
   ]
  },
  {
   "cell_type": "markdown",
   "metadata": {},
   "source": [
    "## Task 4.7 Test Accuracy\n",
    "Using model.evaluate (see https://keras.io/models/model/) find the test_loss and test_accuracy"
   ]
  },
  {
   "cell_type": "code",
   "execution_count": 35,
   "metadata": {},
   "outputs": [
    {
     "name": "stdout",
     "output_type": "stream",
     "text": [
      "10000/10000 [==============================] - 0s 12us/sample - loss: 0.3415 - acc: 0.8769\n",
      "Test accuracy: 0.8769\n"
     ]
    }
   ],
   "source": [
    "test_loss, test_acc = model.evaluate(test_images, test_labels, batch_size=128)\n",
    "print('Test accuracy:', test_acc)"
   ]
  },
  {
   "cell_type": "markdown",
   "metadata": {},
   "source": [
    "## Task 4.8 Predicting\n",
    "using model.predict, create a prediction model for test_images"
   ]
  },
  {
   "cell_type": "code",
   "execution_count": 36,
   "metadata": {},
   "outputs": [],
   "source": [
    "# create a prediction model for the test images\n",
    "predictions = model.predict(test_images)\n"
   ]
  },
  {
   "cell_type": "code",
   "execution_count": 37,
   "metadata": {},
   "outputs": [
    {
     "name": "stdout",
     "output_type": "stream",
     "text": [
      "[3.9965926e-06 6.8084439e-08 3.7679291e-07 1.2536997e-07 2.1822757e-06\n",
      " 1.0334486e-02 7.4947440e-07 1.9982899e-02 5.0021772e-06 9.6967018e-01]\n",
      "The highest confience value = 9, test_label = 9\n"
     ]
    }
   ],
   "source": [
    "## Check to see the accuracy of model prediction\n",
    "# how well the model predicted an image?\n",
    "# A prediction is an array of 10 numbers. \n",
    "# They represent the model's \"confidence\" that the image corresponds to each of \n",
    "# the 10 different articles of clothing. \n",
    "\n",
    "print(predictions[0])\n",
    "print(\"The highest confience value = %s, test_label = %s\" \n",
    "      % (np.argmax(predictions[0]), test_labels[0]))\n"
   ]
  },
  {
   "cell_type": "markdown",
   "metadata": {},
   "source": [
    "## Task 4.9 Plotting the Predictor confidence\n",
    "Use the following function plot_image to plot the predictor confidence."
   ]
  },
  {
   "cell_type": "code",
   "execution_count": 38,
   "metadata": {},
   "outputs": [],
   "source": [
    "# code by François Chollet\n",
    "def plot_image(i, predictions_array, true_label, img):\n",
    "    \n",
    "    predictions_array, true_label, img = predictions_array, true_label[i], img[i]\n",
    "    plt.grid(False)\n",
    "    plt.xticks([])\n",
    "    plt.yticks([])\n",
    "    plt.imshow(img, cmap=plt.cm.binary)\n",
    "\n",
    "    predicted_label = np.argmax(predictions_array)\n",
    "    if predicted_label == true_label:\n",
    "        color = 'blue'\n",
    "    else:\n",
    "        color = 'red'\n",
    "  \n",
    "    plt.xlabel(\"{} {:2.0f}% ({})\".format(class_names[predicted_label],\n",
    "                                100*np.max(predictions_array),\n",
    "                                class_names[true_label]),\n",
    "                                color=color)\n",
    "\n",
    "def plot_value_array(i, predictions_array, true_label):\n",
    "    predictions_array, true_label = predictions_array, true_label[i]\n",
    "    plt.grid(False)\n",
    "    plt.xticks(range(10))\n",
    "    plt.yticks([])\n",
    "    thisplot = plt.bar(range(10), predictions_array, color=\"#777777\")\n",
    "    plt.ylim([0, 1]) \n",
    "    predicted_label = np.argmax(predictions_array)\n",
    " \n",
    "    thisplot[predicted_label].set_color('red')\n",
    "    thisplot[true_label].set_color('blue')"
   ]
  },
  {
   "cell_type": "code",
   "execution_count": 39,
   "metadata": {},
   "outputs": [
    {
     "data": {
      "image/png": "[encoded data removed]",
      "text/plain": [
       "<Figure size 432x216 with 2 Axes>"
      ]
     },
     "metadata": {
      "needs_background": "light"
     },
     "output_type": "display_data"
    },
    {
     "data": {
      "image/png": "[encoded data removed]",
      "text/plain": [
       "<Figure size 432x216 with 2 Axes>"
      ]
     },
     "metadata": {
      "needs_background": "light"
     },
     "output_type": "display_data"
    }
   ],
   "source": [
    "# use the plot_image to display images and how well they were predicted.\n",
    "i = 0\n",
    "plt.figure(figsize=(6,3))\n",
    "plt.subplot(1,2,1)\n",
    "plot_image(i, predictions[i], test_labels, test_images)\n",
    "plt.subplot(1,2,2)\n",
    "plot_value_array(i, predictions[i],  test_labels)\n",
    "plt.show()\n",
    "\n",
    "i = 12\n",
    "plt.figure(figsize=(6,3))\n",
    "plt.subplot(1,2,1)\n",
    "plot_image(i, predictions[i], test_labels, test_images)\n",
    "plt.subplot(1,2,2)\n",
    "plot_value_array(i, predictions[i],  test_labels)\n"
   ]
  },
  {
   "cell_type": "markdown",
   "metadata": {},
   "source": [
    "## Task 4.10\n",
    "Plot a 20 images (shown as 5x4 grid) to see test images and their confidence"
   ]
  },
  {
   "cell_type": "code",
   "execution_count": 40,
   "metadata": {},
   "outputs": [
    {
     "data": {
      "image/png": "[encoded data removed]",
      "text/plain": [
       "<Figure size 1152x720 with 40 Axes>"
      ]
     },
     "metadata": {
      "needs_background": "light"
     },
     "output_type": "display_data"
    }
   ],
   "source": [
    "# Plot the first X test images, their predicted label, and the true label\n",
    "# Color correct predictions in blue, incorrect predictions in red\n",
    "num_rows = 5\n",
    "num_cols = 4\n",
    "num_images = num_rows*num_cols\n",
    "plt.figure(figsize=(2*2*num_cols, 2*num_rows))\n",
    "for i in range(num_images):\n",
    "    plt.subplot(num_rows, 2*num_cols, 2*i+1)\n",
    "    plot_image(i, predictions[i], test_labels, test_images)\n",
    "    plt.subplot(num_rows, 2*num_cols, 2*i+2)\n",
    "    plot_value_array(i, predictions[i], test_labels)\n",
    "plt.tight_layout()\n",
    "plt.show()"
   ]
  },
  {
   "cell_type": "markdown",
   "metadata": {},
   "source": [
    "Lab designed by A.D. Gunawardena, 2019. Acknowledgements: Google TensorFlow group"
   ]
  }
 ],
 "metadata": {
  "kernelspec": {
   "display_name": "Python 3",
   "language": "python",
   "name": "python3"
  },
  "language_info": {
   "codemirror_mode": {
    "name": "ipython",
    "version": 3
   },
   "file_extension": ".py",
   "mimetype": "text/x-python",
   "name": "python",
   "nbconvert_exporter": "python",
   "pygments_lexer": "ipython3",
   "version": "3.7.1"
  }
 },
 "nbformat": 4,
 "nbformat_minor": 2
}
